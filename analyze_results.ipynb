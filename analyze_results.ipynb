{
 "cells": [
  {
   "cell_type": "code",
   "execution_count": 2,
   "metadata": {},
   "outputs": [],
   "source": [
    "import pandas as pd\n",
    "import os\n",
    "import glob\n",
    "import re"
   ]
  },
  {
   "cell_type": "code",
   "execution_count": null,
   "metadata": {},
   "outputs": [],
   "source": [
    "# read all the csv files from results/final_presentation folder and concatenate them into one dataframe\n",
    "# then save the dataframe to a csv file\n",
    "# 1. get the list of csv fileanmes and filepaths\n",
    "# 2. read the csv files into dataframes\n",
    "# 3. concatenate the dataframes\n",
    "# 4. save the concatenated dataframe to a csv file\n",
    "\n",
    "list_of_files = glob.glob('experiment_artifacts/results/final_presentation_v2/*.csv')\n",
    "list_of_files.sort()\n",
    "loss = True\n",
    "# S_MobileNetV2_1_0_T_resnet32x4_dataset_cifar100_distill_similarity_weight_cls_0.0_use_labels_True_weight_div_0.0_weight_other_1.0_learning_rate_0.001_lr_decay_epochs_150_180_210_trial_0\n",
    "if loss:\n",
    "    model_name_template = (\n",
    "        \"S_{}_T_{}_dataset_{}_distill_{}_weight_cls_{}_use_labels_{}_weight_div_{}_weight_other_{}_learning_rate_{}_lr_decay_epochs_{}_loss_{}_trial_{}.csv\"\n",
    "    )\n",
    "    pattern = model_name_template.format(\n",
    "        \"(.+)\", \"(.+)\", \"(.+)\", \"(.+)\", \"(.+)\", \"(.+)\", \"(.+)\", \"(.+)\", \"(.+)\", \"(.+)\", \"(.+)\", \"(.+)\"\n",
    "    )\n",
    "else:\n",
    "    model_name_template = (\n",
    "    \"S_{}_T_{}_dataset_{}_distill_{}_weight_cls_{}_use_labels_{}_weight_div_{}_weight_other_{}_learning_rate_{}_lr_decay_epochs_{}_trial_{}.csv\"\n",
    ")\n",
    "\n",
    "    # Create a regex pattern from the template\n",
    "    pattern = model_name_template.format(\n",
    "    \"(.+)\", \"(.+)\", \"(.+)\", \"(.+)\", \"(.+)\", \"(.+)\", \"(.+)\", \"(.+)\", \"(.+)\", \"(.+)\", \"(.+)\", \"(.+)\"\n",
    ")\n",
    "# read the csv files into dataframes\n",
    "dfs = []\n",
    "folder_list = []\n",
    "for filename in list_of_files:\n",
    "    df = pd.read_csv(filename)\n",
    "    filename_short = filename.split(\"/\")[-1]\n",
    "    # Match the pattern against the filename\n",
    "    match = re.match(pattern, filename_short)\n",
    "    if match:\n",
    "    # Extract the hyperparameters from the filename\n",
    "        model_info = match.groups()\n",
    "        df[\"student_model\"] = model_info[0]\n",
    "        df[\"teacher_model\"] = model_info[1]\n",
    "        df[\"dataset\"] = model_info[2]\n",
    "        df[\"distill_method\"] = model_info[3]\n",
    "        df[\"weight_cls\"] = model_info[4]\n",
    "        df[\"use_labels\"] = model_info[5]\n",
    "        df[\"weight_div\"] = model_info[6]\n",
    "        df[\"weight_other\"] = model_info[7]\n",
    "        df[\"learning_rate\"] = model_info[8]\n",
    "        df[\"lr_decay_epochs\"] = model_info[9]\n",
    "        if loss:\n",
    "            df[\"loss_function\"] = model_info[10]\n",
    "            df[\"trial_number\"] = model_info[11]\n",
    "        else:\n",
    "            df[\"trial_number\"] = model_info[10]\n",
    "        # get the last epoch of the dataframe\n",
    "        df_good = df[df['test_acc'] > 60] \n",
    "        if df_good.shape[0] > 0:\n",
    "                # replace .csv with empty string\n",
    "                filename = filename.replace('.csv', '')\n",
    "                # split the filename by /\n",
    "                filename = filename.split('/')\n",
    "                # get the last element of the list\n",
    "                filename = filename[-1]\n",
    "                folder_list.append(filename)\n",
    "    dfs.append(df)\n",
    "\n",
    "# concatenate the dataframes\n",
    "df = pd.concat(dfs, ignore_index=True)\n",
    "# file the concatenated dataframe where test_acc is greater than 60%\n",
    "df = df[df['test_acc'] > 60] \n",
    "# filer for epoch 240\n",
    "df = df[df['epoch'] == 240]\n",
    "df.to_csv('experiment_artifacts/results/final_presentation_concatenated_results_v2.csv', index=False)"
   ]
  },
  {
   "cell_type": "code",
   "execution_count": 3,
   "metadata": {},
   "outputs": [
    {
     "ename": "NameError",
     "evalue": "name 'folder_list' is not defined",
     "output_type": "error",
     "traceback": [
      "\u001b[0;31m---------------------------------------------------------------------------\u001b[0m",
      "\u001b[0;31mNameError\u001b[0m                                 Traceback (most recent call last)",
      "\u001b[0;32m<ipython-input-3-61b9d3c6c235>\u001b[0m in \u001b[0;36m<cell line: 2>\u001b[0;34m()\u001b[0m\n\u001b[1;32m      1\u001b[0m \u001b[0;31m# move the tensorboard logs to a new folder if the folder name is in the list of files\u001b[0m\u001b[0;34m\u001b[0m\u001b[0;34m\u001b[0m\u001b[0m\n\u001b[0;32m----> 2\u001b[0;31m \u001b[0;32mfor\u001b[0m \u001b[0mfolder\u001b[0m \u001b[0;32min\u001b[0m \u001b[0mfolder_list\u001b[0m\u001b[0;34m:\u001b[0m\u001b[0;34m\u001b[0m\u001b[0;34m\u001b[0m\u001b[0m\n\u001b[0m\u001b[1;32m      3\u001b[0m     \u001b[0mos\u001b[0m\u001b[0;34m.\u001b[0m\u001b[0msystem\u001b[0m\u001b[0;34m(\u001b[0m\u001b[0;34mf\"mv /home/hlaing/new/kd-srp/experiment_artifacts/saved_models_final_presentation_v2/students/tensorboard/{folder} /home/hlaing/new/kd-srp/experiment_artifacts/results/tensorboard/\"\u001b[0m\u001b[0;34m)\u001b[0m\u001b[0;34m\u001b[0m\u001b[0;34m\u001b[0m\u001b[0m\n\u001b[1;32m      4\u001b[0m     \u001b[0;31m# print(f\"mv {folder} /home/hlaing/new/kd-srp/experiment_artifacts/results/tensorboard/\")\u001b[0m\u001b[0;34m\u001b[0m\u001b[0;34m\u001b[0m\u001b[0m\n",
      "\u001b[0;31mNameError\u001b[0m: name 'folder_list' is not defined"
     ]
    }
   ],
   "source": [
    "# move the tensorboard logs to a new folder if the folder name is in the list of files\n",
    "for folder in folder_list:\n",
    "    os.system(f\"mv /home/hlaing/new/kd-srp/experiment_artifacts/saved_models_final_presentation_v2/students/tensorboard/{folder} /home/hlaing/new/kd-srp/experiment_artifacts/results/tensorboard/\")\n",
    "    # print(f\"mv {folder} /home/hlaing/new/kd-srp/experiment_artifacts/results/tensorboard/\")"
   ]
  },
  {
   "cell_type": "code",
   "execution_count": null,
   "metadata": {},
   "outputs": [
    {
     "name": "stdout",
     "output_type": "stream",
     "text": [
      "('simkd', 'KL', False)\n",
      "mean 64.015\n",
      "std 4.447701653663383\n",
      "('simkd', 'l2', False)\n",
      "mean 67.78\n",
      "std 0.07071067811865074\n",
      "('simkd_mp', 'KL', False)\n",
      "mean 69.26\n",
      "std 1.3892084076912279\n",
      "('simkd_mp', 'KL', True)\n",
      "mean 66.87666666666667\n",
      "std 3.7812343663588663\n",
      "('simkd_mp', 'l2', False)\n",
      "mean 71.62\n",
      "std 0.16970562748476778\n",
      "('simkd_mp', 'l2', True)\n",
      "mean 72.07\n",
      "std 0.19798989873222406\n",
      "('unb_proj', 'KL', True)\n",
      "mean 72.6\n",
      "std 0.4101219330881964\n",
      "('unb_proj', 'l2', True)\n",
      "mean 71.91499999999999\n",
      "std 0.14849242404917057\n"
     ]
    }
   ],
   "source": [
    "# read the concatenated dataframe\n",
    "df = pd.read_csv('experiment_artifacts/results/final_presentation_concatenated_results_v2.csv')\n",
    "# df = df[df['loss'] == \"KL\"]\n",
    "# group by the column: loss, use_label and get the mean of the columns\n",
    "df_grouped = df.groupby(['distill', 'loss', 'use_labels'])\n",
    "# loop through the groups and print the mean of the columns\n",
    "for name, group in df_grouped:\n",
    "    print(name)\n",
    "    print(\"mean\", group[\"test_acc\"].mean())\n",
    "    # get the std of the test_acc\n",
    "    print(\"std\",group[\"test_acc\"].std())\n",
    "    "
   ]
  }
 ],
 "metadata": {
  "kernelspec": {
   "display_name": "teacher",
   "language": "python",
   "name": "python3"
  },
  "language_info": {
   "codemirror_mode": {
    "name": "ipython",
    "version": 3
   },
   "file_extension": ".py",
   "mimetype": "text/x-python",
   "name": "python",
   "nbconvert_exporter": "python",
   "pygments_lexer": "ipython3",
   "version": "3.10.12"
  }
 },
 "nbformat": 4,
 "nbformat_minor": 2
}
