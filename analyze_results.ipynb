{
 "cells": [
  {
   "cell_type": "code",
   "execution_count": 1,
   "metadata": {},
   "outputs": [],
   "source": [
    "import pandas as pd\n",
    "import os\n",
    "import glob"
   ]
  },
  {
   "cell_type": "code",
   "execution_count": null,
   "metadata": {},
   "outputs": [
    {
     "name": "stdout",
     "output_type": "stream",
     "text": [
      "<class 'pandas.core.frame.DataFrame'>\n",
      "Index: 18 entries, 5279 to 12556\n",
      "Data columns (total 11 columns):\n",
      " #   Column                Non-Null Count  Dtype  \n",
      "---  ------                --------------  -----  \n",
      " 0   trail                 18 non-null     int64  \n",
      " 1   learning_rate         18 non-null     float64\n",
      " 2   student_architecture  18 non-null     object \n",
      " 3   teacher_architecture  18 non-null     object \n",
      " 4   distill               18 non-null     object \n",
      " 5   epoch                 18 non-null     int64  \n",
      " 6   train_acc             18 non-null     float64\n",
      " 7   train_loss            18 non-null     float64\n",
      " 8   test_acc              18 non-null     float64\n",
      " 9   test_loss             18 non-null     float64\n",
      " 10  test_acc_top5         18 non-null     float64\n",
      "dtypes: float64(6), int64(2), object(3)\n",
      "memory usage: 1.7+ KB\n"
     ]
    }
   ],
   "source": [
    "# read all the csv files from results/final_presentation folder and concatenate them into one dataframe\n",
    "# then save the dataframe to a csv file\n",
    "# 1. get the list of csv fileanmes and filepaths\n",
    "# 2. read the csv files into dataframes\n",
    "# 3. concatenate the dataframes\n",
    "# 4. save the concatenated dataframe to a csv file\n",
    "\n",
    "list_of_files = glob.glob('experiment_artifacts/results/final_presentation/*.csv')\n",
    "list_of_files.sort()\n",
    "\n",
    "# read the csv files into dataframes\n",
    "dfs = []\n",
    "for filename in list_of_files:\n",
    "    dfs.append(pd.read_csv(filename))\n",
    "\n",
    "# concatenate the dataframes\n",
    "df = pd.concat(dfs, ignore_index=True)\n",
    "# file the concatenated dataframe where test_acc is greater than 60%\n",
    "df = df[df['test_acc'] > 60] \n",
    "# filer for epoch 240\n",
    "df = df[df['epoch'] == 240]\n",
    "df.to_csv('experiment_artifacts/results/final_presentation_concatenated_results.csv', index=False)\n",
    "\n"
   ]
  }
 ],
 "metadata": {
  "kernelspec": {
   "display_name": "teacher",
   "language": "python",
   "name": "python3"
  },
  "language_info": {
   "codemirror_mode": {
    "name": "ipython",
    "version": 3
   },
   "file_extension": ".py",
   "mimetype": "text/x-python",
   "name": "python",
   "nbconvert_exporter": "python",
   "pygments_lexer": "ipython3",
   "version": "3.10.12"
  }
 },
 "nbformat": 4,
 "nbformat_minor": 2
}
